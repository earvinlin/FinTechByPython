{
 "cells": [
  {
   "cell_type": "code",
   "execution_count": 26,
   "id": "271335b1",
   "metadata": {},
   "outputs": [],
   "source": [
    "import numpy as np\n",
    "import pandas as pd\n",
    "import ffn"
   ]
  },
  {
   "cell_type": "code",
   "execution_count": 2,
   "id": "4c2c970f",
   "metadata": {},
   "outputs": [
    {
     "data": {
      "text/html": [
       "<div>\n",
       "<style scoped>\n",
       "    .dataframe tbody tr th:only-of-type {\n",
       "        vertical-align: middle;\n",
       "    }\n",
       "\n",
       "    .dataframe tbody tr th {\n",
       "        vertical-align: top;\n",
       "    }\n",
       "\n",
       "    .dataframe thead th {\n",
       "        text-align: right;\n",
       "    }\n",
       "</style>\n",
       "<table border=\"1\" class=\"dataframe\">\n",
       "  <thead>\n",
       "    <tr style=\"text-align: right;\">\n",
       "      <th></th>\n",
       "      <th>Close</th>\n",
       "      <th>Open</th>\n",
       "      <th>High</th>\n",
       "      <th>Low</th>\n",
       "      <th>Volume</th>\n",
       "    </tr>\n",
       "    <tr>\n",
       "      <th>Date</th>\n",
       "      <th></th>\n",
       "      <th></th>\n",
       "      <th></th>\n",
       "      <th></th>\n",
       "      <th></th>\n",
       "    </tr>\n",
       "  </thead>\n",
       "  <tbody>\n",
       "    <tr>\n",
       "      <th>2015-01-05</th>\n",
       "      <td>130.10</td>\n",
       "      <td>131.03</td>\n",
       "      <td>131.03</td>\n",
       "      <td>128.23</td>\n",
       "      <td>32214</td>\n",
       "    </tr>\n",
       "    <tr>\n",
       "      <th>2015-01-06</th>\n",
       "      <td>124.50</td>\n",
       "      <td>128.23</td>\n",
       "      <td>128.23</td>\n",
       "      <td>124.04</td>\n",
       "      <td>67649</td>\n",
       "    </tr>\n",
       "    <tr>\n",
       "      <th>2015-01-07</th>\n",
       "      <td>124.97</td>\n",
       "      <td>124.50</td>\n",
       "      <td>125.90</td>\n",
       "      <td>124.50</td>\n",
       "      <td>43886</td>\n",
       "    </tr>\n",
       "    <tr>\n",
       "      <th>2015-01-08</th>\n",
       "      <td>128.70</td>\n",
       "      <td>127.30</td>\n",
       "      <td>128.70</td>\n",
       "      <td>126.83</td>\n",
       "      <td>42551</td>\n",
       "    </tr>\n",
       "    <tr>\n",
       "      <th>2015-01-09</th>\n",
       "      <td>124.97</td>\n",
       "      <td>125.90</td>\n",
       "      <td>126.37</td>\n",
       "      <td>124.04</td>\n",
       "      <td>61920</td>\n",
       "    </tr>\n",
       "    <tr>\n",
       "      <th>2015-01-12</th>\n",
       "      <td>123.10</td>\n",
       "      <td>123.57</td>\n",
       "      <td>124.50</td>\n",
       "      <td>123.10</td>\n",
       "      <td>30402</td>\n",
       "    </tr>\n",
       "    <tr>\n",
       "      <th>2015-01-13</th>\n",
       "      <td>123.57</td>\n",
       "      <td>122.17</td>\n",
       "      <td>124.04</td>\n",
       "      <td>121.71</td>\n",
       "      <td>38093</td>\n",
       "    </tr>\n",
       "    <tr>\n",
       "      <th>2015-01-14</th>\n",
       "      <td>121.24</td>\n",
       "      <td>123.57</td>\n",
       "      <td>124.04</td>\n",
       "      <td>121.24</td>\n",
       "      <td>49447</td>\n",
       "    </tr>\n",
       "    <tr>\n",
       "      <th>2015-01-15</th>\n",
       "      <td>122.64</td>\n",
       "      <td>122.64</td>\n",
       "      <td>124.04</td>\n",
       "      <td>122.64</td>\n",
       "      <td>40996</td>\n",
       "    </tr>\n",
       "    <tr>\n",
       "      <th>2015-01-16</th>\n",
       "      <td>127.77</td>\n",
       "      <td>130.56</td>\n",
       "      <td>130.56</td>\n",
       "      <td>126.83</td>\n",
       "      <td>129035</td>\n",
       "    </tr>\n",
       "  </tbody>\n",
       "</table>\n",
       "</div>"
      ],
      "text/plain": [
       "             Close    Open    High     Low  Volume\n",
       "Date                                              \n",
       "2015-01-05  130.10  131.03  131.03  128.23   32214\n",
       "2015-01-06  124.50  128.23  128.23  124.04   67649\n",
       "2015-01-07  124.97  124.50  125.90  124.50   43886\n",
       "2015-01-08  128.70  127.30  128.70  126.83   42551\n",
       "2015-01-09  124.97  125.90  126.37  124.04   61920\n",
       "2015-01-12  123.10  123.57  124.50  123.10   30402\n",
       "2015-01-13  123.57  122.17  124.04  121.71   38093\n",
       "2015-01-14  121.24  123.57  124.04  121.24   49447\n",
       "2015-01-15  122.64  122.64  124.04  122.64   40996\n",
       "2015-01-16  127.77  130.56  130.56  126.83  129035"
      ]
     },
     "execution_count": 2,
     "metadata": {},
     "output_type": "execute_result"
    }
   ],
   "source": [
    "# in unix-like os, use「../」==> 表示回到上一層\n",
    "stocks = pd.read_csv('../2330v2.csv', index_col = 'Date', sep = '\\t')\n",
    "stocks.head(10)"
   ]
  },
  {
   "cell_type": "code",
   "execution_count": 3,
   "id": "27d2334f",
   "metadata": {},
   "outputs": [
    {
     "name": "stdout",
     "output_type": "stream",
     "text": [
      "Date\n",
      "2015-01-05    130.10\n",
      "2015-01-06    124.50\n",
      "2015-01-07    124.97\n",
      "2015-01-08    128.70\n",
      "2015-01-09    124.97\n",
      "               ...  \n",
      "2016-12-26    179.50\n",
      "2016-12-27    180.00\n",
      "2016-12-28    182.00\n",
      "2016-12-29    180.00\n",
      "2016-12-30    181.50\n",
      "Name: Close, Length: 488, dtype: float64 <class 'pandas.core.series.Series'>\n"
     ]
    }
   ],
   "source": [
    "close = stocks.Close # close type is 'pandas.core.series.Series'\n",
    "print(close, type(close))"
   ]
  },
  {
   "cell_type": "code",
   "execution_count": 4,
   "id": "f921cdb6",
   "metadata": {},
   "outputs": [
    {
     "name": "stdout",
     "output_type": "stream",
     "text": [
      "DatetimeIndex(['2015-01-05', '2015-01-06', '2015-01-07', '2015-01-08',\n",
      "               '2015-01-09', '2015-01-12', '2015-01-13', '2015-01-14',\n",
      "               '2015-01-15', '2015-01-16',\n",
      "               ...\n",
      "               '2016-12-19', '2016-12-20', '2016-12-21', '2016-12-22',\n",
      "               '2016-12-23', '2016-12-26', '2016-12-27', '2016-12-28',\n",
      "               '2016-12-29', '2016-12-30'],\n",
      "              dtype='datetime64[ns]', name='Date', length=488, freq=None)\n",
      "<class 'pandas.core.indexes.datetimes.DatetimeIndex'>\n"
     ]
    }
   ],
   "source": [
    "close.index = pd.to_datetime(close.index)\n",
    "print(close.index)\n",
    "print(type(close.index))"
   ]
  },
  {
   "cell_type": "code",
   "execution_count": 5,
   "id": "c3896fe8",
   "metadata": {},
   "outputs": [
    {
     "data": {
      "text/plain": [
       "Date\n",
       "2015-01-05       NaN\n",
       "2015-01-06    130.10\n",
       "2015-01-07    124.50\n",
       "2015-01-08    124.97\n",
       "2015-01-09    128.70\n",
       "Name: Close, dtype: float64"
      ]
     },
     "execution_count": 5,
     "metadata": {},
     "output_type": "execute_result"
    }
   ],
   "source": [
    "# 收盤價格滯後一期\n",
    "lagclose = close.shift(1)\n",
    "lagclose.head()"
   ]
  },
  {
   "cell_type": "code",
   "execution_count": 6,
   "id": "6079fc1f",
   "metadata": {},
   "outputs": [
    {
     "name": "stdout",
     "output_type": "stream",
     "text": [
      "DatetimeIndex(['2015-01-05', '2015-01-06', '2015-01-07', '2015-01-08',\n",
      "               '2015-01-09', '2015-01-12', '2015-01-13', '2015-01-14',\n",
      "               '2015-01-15', '2015-01-16',\n",
      "               ...\n",
      "               '2016-12-19', '2016-12-20', '2016-12-21', '2016-12-22',\n",
      "               '2016-12-23', '2016-12-26', '2016-12-27', '2016-12-28',\n",
      "               '2016-12-29', '2016-12-30'],\n",
      "              dtype='datetime64[ns]', name='Date', length=488, freq=None)\n"
     ]
    }
   ],
   "source": [
    "mergeclose = pd.DataFrame({'close' : close, 'lagclose1': lagclose})\n",
    "#print(mergeclose)\n",
    "print(mergeclose.index)"
   ]
  },
  {
   "cell_type": "code",
   "execution_count": 7,
   "id": "e1e0360a",
   "metadata": {},
   "outputs": [
    {
     "name": "stdout",
     "output_type": "stream",
     "text": [
      "Date\n",
      "2015-01-05         NaN\n",
      "2015-01-06   -0.043044\n",
      "2015-01-07    0.003775\n",
      "2015-01-08    0.029847\n",
      "2015-01-09   -0.028982\n",
      "                ...   \n",
      "2016-12-26    0.005602\n",
      "2016-12-27    0.002786\n",
      "2016-12-28    0.011111\n",
      "2016-12-29   -0.010989\n",
      "2016-12-30    0.008333\n",
      "Name: simpleret, Length: 488, dtype: float64\n"
     ]
    }
   ],
   "source": [
    "# 計算單期簡單收益率\n",
    "simpleret = (close - lagclose) / lagclose\n",
    "simpleret.name = 'simpleret'\n",
    "print(simpleret)"
   ]
  },
  {
   "cell_type": "code",
   "execution_count": 8,
   "id": "cc291177",
   "metadata": {},
   "outputs": [
    {
     "name": "stdout",
     "output_type": "stream",
     "text": [
      "Date\n",
      "2015-01-05         NaN\n",
      "2015-01-06         NaN\n",
      "2015-01-07   -0.039431\n",
      "2015-01-08    0.033735\n",
      "2015-01-09    0.000000\n",
      "                ...   \n",
      "2016-12-26    0.002793\n",
      "2016-12-27    0.008403\n",
      "2016-12-28    0.013928\n",
      "2016-12-29    0.000000\n",
      "2016-12-30   -0.002747\n",
      "Name: simpleret2, Length: 488, dtype: float64\n"
     ]
    }
   ],
   "source": [
    "# 計算2期簡單收益率\n",
    "simpleret2 = (close - close.shift(2)) / close.shift(2)\n",
    "simpleret2.name = 'simpleret2'\n",
    "print(simpleret2)"
   ]
  },
  {
   "cell_type": "code",
   "execution_count": 9,
   "id": "e826ee73",
   "metadata": {},
   "outputs": [
    {
     "name": "stdout",
     "output_type": "stream",
     "text": [
      "Date\n",
      "2015-01-05         NaN\n",
      "2015-01-06   -0.043044\n",
      "2015-01-07    0.003775\n",
      "2015-01-08    0.029847\n",
      "2015-01-09   -0.028982\n",
      "                ...   \n",
      "2016-12-26    0.005602\n",
      "2016-12-27    0.002786\n",
      "2016-12-28    0.011111\n",
      "2016-12-29   -0.010989\n",
      "2016-12-30    0.008333\n",
      "Name: Close, Length: 488, dtype: float64\n"
     ]
    }
   ],
   "source": [
    "# use ffn package\n",
    "ffnSimpleret = ffn.to_returns(close) # 簡單收益率\n",
    "print(ffnSimpleret)"
   ]
  },
  {
   "cell_type": "code",
   "execution_count": 10,
   "id": "8164f514",
   "metadata": {},
   "outputs": [
    {
     "name": "stdout",
     "output_type": "stream",
     "text": [
      "Date\n",
      "2016-12-30    0.299908\n",
      "Name: simpleret, dtype: float64\n"
     ]
    }
   ],
   "source": [
    "# 年化收益率\n",
    "annualize = (1 + simpleret).cumprod()[-1:]**(245/311) - 1\n",
    "#annualize = (1 + simpleret).cumprod()**(245/311) \n",
    "print(annualize)"
   ]
  },
  {
   "cell_type": "code",
   "execution_count": 11,
   "id": "822f77c4",
   "metadata": {},
   "outputs": [
    {
     "name": "stdout",
     "output_type": "stream",
     "text": [
      "Date\n",
      "2016-12-30    0.008333\n",
      "Name: simpleret, dtype: float64\n",
      "Date\n",
      "2016-12-30    0.000069\n",
      "Name: simpleret, dtype: float64\n",
      "Date\n",
      "2016-12-30    0.091287\n",
      "Name: simpleret, dtype: float64\n"
     ]
    }
   ],
   "source": [
    "print(simpleret[-1:])\n",
    "print(simpleret[-1:]**2)\n",
    "print(simpleret[-1:]**(2/4))"
   ]
  },
  {
   "cell_type": "code",
   "execution_count": 17,
   "id": "14e08f18",
   "metadata": {
    "scrolled": true
   },
   "outputs": [
    {
     "name": "stdout",
     "output_type": "stream",
     "text": [
      "Date\n",
      "2015-01-05         NaN\n",
      "2015-01-06   -0.043998\n",
      "2015-01-07    0.003768\n",
      "2015-01-08    0.029410\n",
      "2015-01-09   -0.029410\n",
      "                ...   \n",
      "2016-12-26    0.005587\n",
      "2016-12-27    0.002782\n",
      "2016-12-28    0.011050\n",
      "2016-12-29   -0.011050\n",
      "2016-12-30    0.008299\n",
      "Name: Close, Length: 488, dtype: float64\n",
      "Date\n",
      "2015-01-05         NaN\n",
      "2015-01-06   -0.043998\n",
      "2015-01-07    0.003768\n",
      "2015-01-08    0.029410\n",
      "2015-01-09   -0.029410\n",
      "                ...   \n",
      "2016-12-26    0.005587\n",
      "2016-12-27    0.002782\n",
      "2016-12-28    0.011050\n",
      "2016-12-29   -0.011050\n",
      "2016-12-30    0.008299\n",
      "Name: Close, Length: 488, dtype: float64\n"
     ]
    }
   ],
   "source": [
    "# 自然對數\n",
    "v = np.log(close/lagclose)\n",
    "print(v)\n",
    "v1 = ffn.to_log_returns(close)\n",
    "print(v1)"
   ]
  },
  {
   "cell_type": "code",
   "execution_count": 27,
   "id": "7c2be1d2",
   "metadata": {},
   "outputs": [
    {
     "ename": "TypeError",
     "evalue": "string indices must be integers",
     "output_type": "error",
     "traceback": [
      "\u001b[0;31m---------------------------------------------------------------------------\u001b[0m",
      "\u001b[0;31mTypeError\u001b[0m                                 Traceback (most recent call last)",
      "Cell \u001b[0;32mIn[27], line 13\u001b[0m\n\u001b[1;32m     11\u001b[0m start\u001b[38;5;241m=\u001b[39mdatetime\u001b[38;5;241m.\u001b[39mdatetime(\u001b[38;5;241m2018\u001b[39m,\u001b[38;5;241m1\u001b[39m,\u001b[38;5;241m1\u001b[39m)\n\u001b[1;32m     12\u001b[0m end\u001b[38;5;241m=\u001b[39mdatetime\u001b[38;5;241m.\u001b[39mdatetime(\u001b[38;5;241m2020\u001b[39m,\u001b[38;5;241m1\u001b[39m,\u001b[38;5;241m1\u001b[39m)\n\u001b[0;32m---> 13\u001b[0m data\u001b[38;5;241m=\u001b[39m\u001b[43mweb\u001b[49m\u001b[38;5;241;43m.\u001b[39;49m\u001b[43mDataReader\u001b[49m\u001b[43m(\u001b[49m\u001b[38;5;124;43m'\u001b[39;49m\u001b[38;5;124;43m2330.tw\u001b[39;49m\u001b[38;5;124;43m'\u001b[39;49m\u001b[43m,\u001b[49m\u001b[38;5;124;43m'\u001b[39;49m\u001b[38;5;124;43myahoo\u001b[39;49m\u001b[38;5;124;43m'\u001b[39;49m\u001b[43m,\u001b[49m\u001b[43mstart\u001b[49m\u001b[43m,\u001b[49m\u001b[43mend\u001b[49m\u001b[43m)\u001b[49m\n\u001b[1;32m     14\u001b[0m \u001b[38;5;66;03m#資料視覺化\u001b[39;00m\n\u001b[1;32m     15\u001b[0m data[\u001b[38;5;124m'\u001b[39m\u001b[38;5;124mClose\u001b[39m\u001b[38;5;124m'\u001b[39m]\u001b[38;5;241m.\u001b[39mplot()\n",
      "File \u001b[0;32m~/anaconda3/envs/python38/lib/python3.8/site-packages/pandas/util/_decorators.py:211\u001b[0m, in \u001b[0;36mdeprecate_kwarg.<locals>._deprecate_kwarg.<locals>.wrapper\u001b[0;34m(*args, **kwargs)\u001b[0m\n\u001b[1;32m    209\u001b[0m     \u001b[38;5;28;01melse\u001b[39;00m:\n\u001b[1;32m    210\u001b[0m         kwargs[new_arg_name] \u001b[38;5;241m=\u001b[39m new_arg_value\n\u001b[0;32m--> 211\u001b[0m \u001b[38;5;28;01mreturn\u001b[39;00m \u001b[43mfunc\u001b[49m\u001b[43m(\u001b[49m\u001b[38;5;241;43m*\u001b[39;49m\u001b[43margs\u001b[49m\u001b[43m,\u001b[49m\u001b[43m \u001b[49m\u001b[38;5;241;43m*\u001b[39;49m\u001b[38;5;241;43m*\u001b[39;49m\u001b[43mkwargs\u001b[49m\u001b[43m)\u001b[49m\n",
      "File \u001b[0;32m~/anaconda3/envs/python38/lib/python3.8/site-packages/pandas_datareader/data.py:370\u001b[0m, in \u001b[0;36mDataReader\u001b[0;34m(name, data_source, start, end, retry_count, pause, session, api_key)\u001b[0m\n\u001b[1;32m    367\u001b[0m     \u001b[38;5;28;01mraise\u001b[39;00m \u001b[38;5;167;01mNotImplementedError\u001b[39;00m(msg)\n\u001b[1;32m    369\u001b[0m \u001b[38;5;28;01mif\u001b[39;00m data_source \u001b[38;5;241m==\u001b[39m \u001b[38;5;124m\"\u001b[39m\u001b[38;5;124myahoo\u001b[39m\u001b[38;5;124m\"\u001b[39m:\n\u001b[0;32m--> 370\u001b[0m     \u001b[38;5;28;01mreturn\u001b[39;00m \u001b[43mYahooDailyReader\u001b[49m\u001b[43m(\u001b[49m\n\u001b[1;32m    371\u001b[0m \u001b[43m        \u001b[49m\u001b[43msymbols\u001b[49m\u001b[38;5;241;43m=\u001b[39;49m\u001b[43mname\u001b[49m\u001b[43m,\u001b[49m\n\u001b[1;32m    372\u001b[0m \u001b[43m        \u001b[49m\u001b[43mstart\u001b[49m\u001b[38;5;241;43m=\u001b[39;49m\u001b[43mstart\u001b[49m\u001b[43m,\u001b[49m\n\u001b[1;32m    373\u001b[0m \u001b[43m        \u001b[49m\u001b[43mend\u001b[49m\u001b[38;5;241;43m=\u001b[39;49m\u001b[43mend\u001b[49m\u001b[43m,\u001b[49m\n\u001b[1;32m    374\u001b[0m \u001b[43m        \u001b[49m\u001b[43madjust_price\u001b[49m\u001b[38;5;241;43m=\u001b[39;49m\u001b[38;5;28;43;01mFalse\u001b[39;49;00m\u001b[43m,\u001b[49m\n\u001b[1;32m    375\u001b[0m \u001b[43m        \u001b[49m\u001b[43mchunksize\u001b[49m\u001b[38;5;241;43m=\u001b[39;49m\u001b[38;5;241;43m25\u001b[39;49m\u001b[43m,\u001b[49m\n\u001b[1;32m    376\u001b[0m \u001b[43m        \u001b[49m\u001b[43mretry_count\u001b[49m\u001b[38;5;241;43m=\u001b[39;49m\u001b[43mretry_count\u001b[49m\u001b[43m,\u001b[49m\n\u001b[1;32m    377\u001b[0m \u001b[43m        \u001b[49m\u001b[43mpause\u001b[49m\u001b[38;5;241;43m=\u001b[39;49m\u001b[43mpause\u001b[49m\u001b[43m,\u001b[49m\n\u001b[1;32m    378\u001b[0m \u001b[43m        \u001b[49m\u001b[43msession\u001b[49m\u001b[38;5;241;43m=\u001b[39;49m\u001b[43msession\u001b[49m\u001b[43m,\u001b[49m\n\u001b[1;32m    379\u001b[0m \u001b[43m    \u001b[49m\u001b[43m)\u001b[49m\u001b[38;5;241;43m.\u001b[39;49m\u001b[43mread\u001b[49m\u001b[43m(\u001b[49m\u001b[43m)\u001b[49m\n\u001b[1;32m    381\u001b[0m \u001b[38;5;28;01melif\u001b[39;00m data_source \u001b[38;5;241m==\u001b[39m \u001b[38;5;124m\"\u001b[39m\u001b[38;5;124miex\u001b[39m\u001b[38;5;124m\"\u001b[39m:\n\u001b[1;32m    382\u001b[0m     \u001b[38;5;28;01mreturn\u001b[39;00m IEXDailyReader(\n\u001b[1;32m    383\u001b[0m         symbols\u001b[38;5;241m=\u001b[39mname,\n\u001b[1;32m    384\u001b[0m         start\u001b[38;5;241m=\u001b[39mstart,\n\u001b[0;32m   (...)\u001b[0m\n\u001b[1;32m    390\u001b[0m         session\u001b[38;5;241m=\u001b[39msession,\n\u001b[1;32m    391\u001b[0m     )\u001b[38;5;241m.\u001b[39mread()\n",
      "File \u001b[0;32m~/anaconda3/envs/python38/lib/python3.8/site-packages/pandas_datareader/base.py:253\u001b[0m, in \u001b[0;36m_DailyBaseReader.read\u001b[0;34m(self)\u001b[0m\n\u001b[1;32m    251\u001b[0m \u001b[38;5;66;03m# If a single symbol, (e.g., 'GOOG')\u001b[39;00m\n\u001b[1;32m    252\u001b[0m \u001b[38;5;28;01mif\u001b[39;00m \u001b[38;5;28misinstance\u001b[39m(\u001b[38;5;28mself\u001b[39m\u001b[38;5;241m.\u001b[39msymbols, (string_types, \u001b[38;5;28mint\u001b[39m)):\n\u001b[0;32m--> 253\u001b[0m     df \u001b[38;5;241m=\u001b[39m \u001b[38;5;28;43mself\u001b[39;49m\u001b[38;5;241;43m.\u001b[39;49m\u001b[43m_read_one_data\u001b[49m\u001b[43m(\u001b[49m\u001b[38;5;28;43mself\u001b[39;49m\u001b[38;5;241;43m.\u001b[39;49m\u001b[43murl\u001b[49m\u001b[43m,\u001b[49m\u001b[43m \u001b[49m\u001b[43mparams\u001b[49m\u001b[38;5;241;43m=\u001b[39;49m\u001b[38;5;28;43mself\u001b[39;49m\u001b[38;5;241;43m.\u001b[39;49m\u001b[43m_get_params\u001b[49m\u001b[43m(\u001b[49m\u001b[38;5;28;43mself\u001b[39;49m\u001b[38;5;241;43m.\u001b[39;49m\u001b[43msymbols\u001b[49m\u001b[43m)\u001b[49m\u001b[43m)\u001b[49m\n\u001b[1;32m    254\u001b[0m \u001b[38;5;66;03m# Or multiple symbols, (e.g., ['GOOG', 'AAPL', 'MSFT'])\u001b[39;00m\n\u001b[1;32m    255\u001b[0m \u001b[38;5;28;01melif\u001b[39;00m \u001b[38;5;28misinstance\u001b[39m(\u001b[38;5;28mself\u001b[39m\u001b[38;5;241m.\u001b[39msymbols, DataFrame):\n",
      "File \u001b[0;32m~/anaconda3/envs/python38/lib/python3.8/site-packages/pandas_datareader/yahoo/daily.py:153\u001b[0m, in \u001b[0;36mYahooDailyReader._read_one_data\u001b[0;34m(self, url, params)\u001b[0m\n\u001b[1;32m    151\u001b[0m \u001b[38;5;28;01mtry\u001b[39;00m:\n\u001b[1;32m    152\u001b[0m     j \u001b[38;5;241m=\u001b[39m json\u001b[38;5;241m.\u001b[39mloads(re\u001b[38;5;241m.\u001b[39msearch(ptrn, resp\u001b[38;5;241m.\u001b[39mtext, re\u001b[38;5;241m.\u001b[39mDOTALL)\u001b[38;5;241m.\u001b[39mgroup(\u001b[38;5;241m1\u001b[39m))\n\u001b[0;32m--> 153\u001b[0m     data \u001b[38;5;241m=\u001b[39m \u001b[43mj\u001b[49m\u001b[43m[\u001b[49m\u001b[38;5;124;43m\"\u001b[39;49m\u001b[38;5;124;43mcontext\u001b[39;49m\u001b[38;5;124;43m\"\u001b[39;49m\u001b[43m]\u001b[49m\u001b[43m[\u001b[49m\u001b[38;5;124;43m\"\u001b[39;49m\u001b[38;5;124;43mdispatcher\u001b[39;49m\u001b[38;5;124;43m\"\u001b[39;49m\u001b[43m]\u001b[49m\u001b[43m[\u001b[49m\u001b[38;5;124;43m\"\u001b[39;49m\u001b[38;5;124;43mstores\u001b[39;49m\u001b[38;5;124;43m\"\u001b[39;49m\u001b[43m]\u001b[49m\u001b[43m[\u001b[49m\u001b[38;5;124;43m\"\u001b[39;49m\u001b[38;5;124;43mHistoricalPriceStore\u001b[39;49m\u001b[38;5;124;43m\"\u001b[39;49m\u001b[43m]\u001b[49m\n\u001b[1;32m    154\u001b[0m \u001b[38;5;28;01mexcept\u001b[39;00m \u001b[38;5;167;01mKeyError\u001b[39;00m:\n\u001b[1;32m    155\u001b[0m     msg \u001b[38;5;241m=\u001b[39m \u001b[38;5;124m\"\u001b[39m\u001b[38;5;124mNo data fetched for symbol \u001b[39m\u001b[38;5;132;01m{}\u001b[39;00m\u001b[38;5;124m using \u001b[39m\u001b[38;5;132;01m{}\u001b[39;00m\u001b[38;5;124m\"\u001b[39m\n",
      "\u001b[0;31mTypeError\u001b[0m: string indices must be integers"
     ]
    }
   ],
   "source": [
    "#a = ffn.get('aapl,msft', start='2010-01-01')\n",
    "#a.head()\n",
    "\n",
    "import pandas as pd\n",
    "import numpy as np\n",
    "from pandas_datareader import data\n",
    "import pandas_datareader.data as web\n",
    "import datetime\n",
    "import matplotlib.pyplot as plt\n",
    "\n",
    "start=datetime.datetime(2018,1,1)\n",
    "end=datetime.datetime(2020,1,1)\n",
    "# 本行已無法使用，不知為何？ -- 2022.12.26 --\n",
    "data=web.DataReader('2330.tw','yahoo',start,end)\n",
    "#資料視覺化\n",
    "data['Close'].plot()\n",
    "data"
   ]
  },
  {
   "cell_type": "code",
   "execution_count": 38,
   "id": "7a51be7b",
   "metadata": {},
   "outputs": [
    {
     "ename": "AttributeError",
     "evalue": "'int' object has no attribute 'shift'",
     "output_type": "error",
     "traceback": [
      "\u001b[0;31m---------------------------------------------------------------------------\u001b[0m",
      "\u001b[0;31mAttributeError\u001b[0m                            Traceback (most recent call last)",
      "Cell \u001b[0;32mIn[38], line 3\u001b[0m\n\u001b[1;32m      1\u001b[0m \u001b[38;5;66;03m#print(np.log(1))\u001b[39;00m\n\u001b[1;32m      2\u001b[0m \u001b[38;5;66;03m#print('---\\n')\u001b[39;00m\n\u001b[0;32m----> 3\u001b[0m f \u001b[38;5;241m=\u001b[39m \u001b[43mffn\u001b[49m\u001b[38;5;241;43m.\u001b[39;49m\u001b[43mto_log_returns\u001b[49m\u001b[43m(\u001b[49m\u001b[38;5;241;43m1\u001b[39;49m\u001b[43m)\u001b[49m\n\u001b[1;32m      4\u001b[0m f\u001b[38;5;241m.\u001b[39mhead\n",
      "File \u001b[0;32m~/anaconda3/envs/python38/lib/python3.8/site-packages/ffn/core.py:1167\u001b[0m, in \u001b[0;36mto_log_returns\u001b[0;34m(prices)\u001b[0m\n\u001b[1;32m   1157\u001b[0m \u001b[38;5;28;01mdef\u001b[39;00m \u001b[38;5;21mto_log_returns\u001b[39m(prices):\n\u001b[1;32m   1158\u001b[0m     \u001b[38;5;124;03m\"\"\"\u001b[39;00m\n\u001b[1;32m   1159\u001b[0m \u001b[38;5;124;03m    Calculates the log returns of a price series.\u001b[39;00m\n\u001b[1;32m   1160\u001b[0m \n\u001b[0;32m   (...)\u001b[0m\n\u001b[1;32m   1165\u001b[0m \n\u001b[1;32m   1166\u001b[0m \u001b[38;5;124;03m    \"\"\"\u001b[39;00m\n\u001b[0;32m-> 1167\u001b[0m     \u001b[38;5;28;01mreturn\u001b[39;00m np\u001b[38;5;241m.\u001b[39mlog(prices \u001b[38;5;241m/\u001b[39m \u001b[43mprices\u001b[49m\u001b[38;5;241;43m.\u001b[39;49m\u001b[43mshift\u001b[49m(\u001b[38;5;241m1\u001b[39m))\n",
      "\u001b[0;31mAttributeError\u001b[0m: 'int' object has no attribute 'shift'"
     ]
    }
   ],
   "source": [
    "#print(np.log(1))\n",
    "#print('---\\n')\n",
    "f = ffn.to_log_returns(1)\n",
    "f.head"
   ]
  },
  {
   "cell_type": "code",
   "execution_count": 45,
   "id": "b7257d0d",
   "metadata": {},
   "outputs": [
    {
     "name": "stdout",
     "output_type": "stream",
     "text": [
      "0       2\n",
      "1       4\n",
      "2       6\n",
      "3    6561\n",
      "dtype: int64\n",
      "[0.69314718 1.38629436 1.79175947 8.78889831]\n",
      "0         NaN\n",
      "1    0.693147\n",
      "2    0.405465\n",
      "3    6.997139\n",
      "dtype: float64\n",
      "[ 1.          2.          2.5849625  12.67970001]\n"
     ]
    }
   ],
   "source": [
    "a=np.array([2, 4, 6, 3**8])\n",
    "a1 = pd.Series(a)\n",
    "print(a1)\n",
    "b = np.log(a)\n",
    "print(b)\n",
    "# 傳入參數是要pandas series type, fun. p1 / p0\n",
    "b1 = ffn.to_log_returns(a1)\n",
    "print(b1)\n",
    "c = np.log2(a)\n",
    "print(c)"
   ]
  },
  {
   "cell_type": "code",
   "execution_count": 47,
   "id": "89aba4a0",
   "metadata": {},
   "outputs": [
    {
     "data": {
      "text/plain": [
       "['__add__',\n",
       " '__class__',\n",
       " '__contains__',\n",
       " '__delattr__',\n",
       " '__dir__',\n",
       " '__doc__',\n",
       " '__eq__',\n",
       " '__format__',\n",
       " '__ge__',\n",
       " '__getattribute__',\n",
       " '__getitem__',\n",
       " '__getnewargs__',\n",
       " '__gt__',\n",
       " '__hash__',\n",
       " '__init__',\n",
       " '__init_subclass__',\n",
       " '__iter__',\n",
       " '__le__',\n",
       " '__len__',\n",
       " '__lt__',\n",
       " '__mod__',\n",
       " '__mul__',\n",
       " '__ne__',\n",
       " '__new__',\n",
       " '__reduce__',\n",
       " '__reduce_ex__',\n",
       " '__repr__',\n",
       " '__rmod__',\n",
       " '__rmul__',\n",
       " '__setattr__',\n",
       " '__sizeof__',\n",
       " '__str__',\n",
       " '__subclasshook__',\n",
       " 'capitalize',\n",
       " 'casefold',\n",
       " 'center',\n",
       " 'count',\n",
       " 'encode',\n",
       " 'endswith',\n",
       " 'expandtabs',\n",
       " 'find',\n",
       " 'format',\n",
       " 'format_map',\n",
       " 'index',\n",
       " 'isalnum',\n",
       " 'isalpha',\n",
       " 'isascii',\n",
       " 'isdecimal',\n",
       " 'isdigit',\n",
       " 'isidentifier',\n",
       " 'islower',\n",
       " 'isnumeric',\n",
       " 'isprintable',\n",
       " 'isspace',\n",
       " 'istitle',\n",
       " 'isupper',\n",
       " 'join',\n",
       " 'ljust',\n",
       " 'lower',\n",
       " 'lstrip',\n",
       " 'maketrans',\n",
       " 'partition',\n",
       " 'replace',\n",
       " 'rfind',\n",
       " 'rindex',\n",
       " 'rjust',\n",
       " 'rpartition',\n",
       " 'rsplit',\n",
       " 'rstrip',\n",
       " 'split',\n",
       " 'splitlines',\n",
       " 'startswith',\n",
       " 'strip',\n",
       " 'swapcase',\n",
       " 'title',\n",
       " 'translate',\n",
       " 'upper',\n",
       " 'zfill']"
      ]
     },
     "execution_count": 47,
     "metadata": {},
     "output_type": "execute_result"
    }
   ],
   "source": [
    "dir('')"
   ]
  },
  {
   "cell_type": "code",
   "execution_count": null,
   "id": "59ddb7c5",
   "metadata": {},
   "outputs": [],
   "source": []
  }
 ],
 "metadata": {
  "kernelspec": {
   "display_name": "Python 3 (ipykernel)",
   "language": "python",
   "name": "python3"
  },
  "language_info": {
   "codemirror_mode": {
    "name": "ipython",
    "version": 3
   },
   "file_extension": ".py",
   "mimetype": "text/x-python",
   "name": "python",
   "nbconvert_exporter": "python",
   "pygments_lexer": "ipython3",
   "version": "3.8.15"
  }
 },
 "nbformat": 4,
 "nbformat_minor": 5
}
