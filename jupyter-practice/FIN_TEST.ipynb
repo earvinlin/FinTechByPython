{
 "cells": [
  {
   "cell_type": "code",
   "execution_count": 9,
   "id": "3f5f9aac",
   "metadata": {},
   "outputs": [],
   "source": [
    "import numpy as np\n",
    "import pandas as pd\n",
    "import ffn"
   ]
  },
  {
   "cell_type": "code",
   "execution_count": 3,
   "id": "ee8a0f45",
   "metadata": {},
   "outputs": [
    {
     "data": {
      "text/html": [
       "<div>\n",
       "<style scoped>\n",
       "    .dataframe tbody tr th:only-of-type {\n",
       "        vertical-align: middle;\n",
       "    }\n",
       "\n",
       "    .dataframe tbody tr th {\n",
       "        vertical-align: top;\n",
       "    }\n",
       "\n",
       "    .dataframe thead th {\n",
       "        text-align: right;\n",
       "    }\n",
       "</style>\n",
       "<table border=\"1\" class=\"dataframe\">\n",
       "  <thead>\n",
       "    <tr style=\"text-align: right;\">\n",
       "      <th></th>\n",
       "      <th>Close</th>\n",
       "      <th>Open</th>\n",
       "      <th>High</th>\n",
       "      <th>Low</th>\n",
       "      <th>Volume</th>\n",
       "    </tr>\n",
       "    <tr>\n",
       "      <th>Date</th>\n",
       "      <th></th>\n",
       "      <th></th>\n",
       "      <th></th>\n",
       "      <th></th>\n",
       "      <th></th>\n",
       "    </tr>\n",
       "  </thead>\n",
       "  <tbody>\n",
       "    <tr>\n",
       "      <th>2015-01-05</th>\n",
       "      <td>130.10</td>\n",
       "      <td>131.03</td>\n",
       "      <td>131.03</td>\n",
       "      <td>128.23</td>\n",
       "      <td>32214</td>\n",
       "    </tr>\n",
       "    <tr>\n",
       "      <th>2015-01-06</th>\n",
       "      <td>124.50</td>\n",
       "      <td>128.23</td>\n",
       "      <td>128.23</td>\n",
       "      <td>124.04</td>\n",
       "      <td>67649</td>\n",
       "    </tr>\n",
       "    <tr>\n",
       "      <th>2015-01-07</th>\n",
       "      <td>124.97</td>\n",
       "      <td>124.50</td>\n",
       "      <td>125.90</td>\n",
       "      <td>124.50</td>\n",
       "      <td>43886</td>\n",
       "    </tr>\n",
       "    <tr>\n",
       "      <th>2015-01-08</th>\n",
       "      <td>128.70</td>\n",
       "      <td>127.30</td>\n",
       "      <td>128.70</td>\n",
       "      <td>126.83</td>\n",
       "      <td>42551</td>\n",
       "    </tr>\n",
       "    <tr>\n",
       "      <th>2015-01-09</th>\n",
       "      <td>124.97</td>\n",
       "      <td>125.90</td>\n",
       "      <td>126.37</td>\n",
       "      <td>124.04</td>\n",
       "      <td>61920</td>\n",
       "    </tr>\n",
       "    <tr>\n",
       "      <th>2015-01-12</th>\n",
       "      <td>123.10</td>\n",
       "      <td>123.57</td>\n",
       "      <td>124.50</td>\n",
       "      <td>123.10</td>\n",
       "      <td>30402</td>\n",
       "    </tr>\n",
       "    <tr>\n",
       "      <th>2015-01-13</th>\n",
       "      <td>123.57</td>\n",
       "      <td>122.17</td>\n",
       "      <td>124.04</td>\n",
       "      <td>121.71</td>\n",
       "      <td>38093</td>\n",
       "    </tr>\n",
       "    <tr>\n",
       "      <th>2015-01-14</th>\n",
       "      <td>121.24</td>\n",
       "      <td>123.57</td>\n",
       "      <td>124.04</td>\n",
       "      <td>121.24</td>\n",
       "      <td>49447</td>\n",
       "    </tr>\n",
       "    <tr>\n",
       "      <th>2015-01-15</th>\n",
       "      <td>122.64</td>\n",
       "      <td>122.64</td>\n",
       "      <td>124.04</td>\n",
       "      <td>122.64</td>\n",
       "      <td>40996</td>\n",
       "    </tr>\n",
       "    <tr>\n",
       "      <th>2015-01-16</th>\n",
       "      <td>127.77</td>\n",
       "      <td>130.56</td>\n",
       "      <td>130.56</td>\n",
       "      <td>126.83</td>\n",
       "      <td>129035</td>\n",
       "    </tr>\n",
       "  </tbody>\n",
       "</table>\n",
       "</div>"
      ],
      "text/plain": [
       "             Close    Open    High     Low  Volume\n",
       "Date                                              \n",
       "2015-01-05  130.10  131.03  131.03  128.23   32214\n",
       "2015-01-06  124.50  128.23  128.23  124.04   67649\n",
       "2015-01-07  124.97  124.50  125.90  124.50   43886\n",
       "2015-01-08  128.70  127.30  128.70  126.83   42551\n",
       "2015-01-09  124.97  125.90  126.37  124.04   61920\n",
       "2015-01-12  123.10  123.57  124.50  123.10   30402\n",
       "2015-01-13  123.57  122.17  124.04  121.71   38093\n",
       "2015-01-14  121.24  123.57  124.04  121.24   49447\n",
       "2015-01-15  122.64  122.64  124.04  122.64   40996\n",
       "2015-01-16  127.77  130.56  130.56  126.83  129035"
      ]
     },
     "execution_count": 3,
     "metadata": {},
     "output_type": "execute_result"
    }
   ],
   "source": [
    "# in unix-like os, use「../」==> 表示回到上一層\n",
    "stocks = pd.read_csv('../2330v2.csv', index_col = 'Date', sep = '\\t')\n",
    "stocks.head(10)"
   ]
  },
  {
   "cell_type": "code",
   "execution_count": 6,
   "id": "03077266",
   "metadata": {},
   "outputs": [
    {
     "name": "stdout",
     "output_type": "stream",
     "text": [
      "Date\n",
      "2015-01-05    130.10\n",
      "2015-01-06    124.50\n",
      "2015-01-07    124.97\n",
      "2015-01-08    128.70\n",
      "2015-01-09    124.97\n",
      "               ...  \n",
      "2016-12-26    179.50\n",
      "2016-12-27    180.00\n",
      "2016-12-28    182.00\n",
      "2016-12-29    180.00\n",
      "2016-12-30    181.50\n",
      "Name: Close, Length: 488, dtype: float64 <class 'pandas.core.series.Series'>\n"
     ]
    }
   ],
   "source": [
    "close = stocks.Close # close type is 'pandas.core.series.Series'\n",
    "print(close, type(close))"
   ]
  },
  {
   "cell_type": "code",
   "execution_count": 8,
   "id": "f2ec1954",
   "metadata": {},
   "outputs": [
    {
     "name": "stdout",
     "output_type": "stream",
     "text": [
      "DatetimeIndex(['2015-01-05', '2015-01-06', '2015-01-07', '2015-01-08',\n",
      "               '2015-01-09', '2015-01-12', '2015-01-13', '2015-01-14',\n",
      "               '2015-01-15', '2015-01-16',\n",
      "               ...\n",
      "               '2016-12-19', '2016-12-20', '2016-12-21', '2016-12-22',\n",
      "               '2016-12-23', '2016-12-26', '2016-12-27', '2016-12-28',\n",
      "               '2016-12-29', '2016-12-30'],\n",
      "              dtype='datetime64[ns]', name='Date', length=488, freq=None)\n",
      "<class 'pandas.core.indexes.datetimes.DatetimeIndex'>\n"
     ]
    }
   ],
   "source": [
    "close.index = pd.to_datetime(close.index)\n",
    "print(close.index)\n",
    "print(type(close.index))"
   ]
  },
  {
   "cell_type": "code",
   "execution_count": 10,
   "id": "325f6289",
   "metadata": {},
   "outputs": [
    {
     "data": {
      "text/plain": [
       "Date\n",
       "2015-01-05       NaN\n",
       "2015-01-06    130.10\n",
       "2015-01-07    124.50\n",
       "2015-01-08    124.97\n",
       "2015-01-09    128.70\n",
       "Name: Close, dtype: float64"
      ]
     },
     "execution_count": 10,
     "metadata": {},
     "output_type": "execute_result"
    }
   ],
   "source": [
    "# 收盤價格滯後一期\n",
    "lagclose = close.shift(1)\n",
    "lagclose.head()"
   ]
  },
  {
   "cell_type": "code",
   "execution_count": 13,
   "id": "23a60f0e",
   "metadata": {},
   "outputs": [
    {
     "name": "stdout",
     "output_type": "stream",
     "text": [
      "DatetimeIndex(['2015-01-05', '2015-01-06', '2015-01-07', '2015-01-08',\n",
      "               '2015-01-09', '2015-01-12', '2015-01-13', '2015-01-14',\n",
      "               '2015-01-15', '2015-01-16',\n",
      "               ...\n",
      "               '2016-12-19', '2016-12-20', '2016-12-21', '2016-12-22',\n",
      "               '2016-12-23', '2016-12-26', '2016-12-27', '2016-12-28',\n",
      "               '2016-12-29', '2016-12-30'],\n",
      "              dtype='datetime64[ns]', name='Date', length=488, freq=None)\n"
     ]
    }
   ],
   "source": [
    "mergeclose = pd.DataFrame({'close' : close, 'lagclose1': lagclose})\n",
    "#print(mergeclose)\n",
    "print(mergeclose.index)"
   ]
  },
  {
   "cell_type": "code",
   "execution_count": 16,
   "id": "84f617e0",
   "metadata": {},
   "outputs": [
    {
     "name": "stdout",
     "output_type": "stream",
     "text": [
      "Date\n",
      "2015-01-05         NaN\n",
      "2015-01-06   -0.043044\n",
      "2015-01-07    0.003775\n",
      "2015-01-08    0.029847\n",
      "2015-01-09   -0.028982\n",
      "                ...   \n",
      "2016-12-26    0.005602\n",
      "2016-12-27    0.002786\n",
      "2016-12-28    0.011111\n",
      "2016-12-29   -0.010989\n",
      "2016-12-30    0.008333\n",
      "Name: Close, Length: 488, dtype: float64\n"
     ]
    }
   ],
   "source": [
    "# 計算單期簡單收益率\n",
    "simpleret = (close - lagclose) / lagclose\n",
    "simpleret.name = 'simpleret'\n",
    "print(simpleret)"
   ]
  },
  {
   "cell_type": "code",
   "execution_count": 17,
   "id": "bf8f6473",
   "metadata": {},
   "outputs": [
    {
     "name": "stdout",
     "output_type": "stream",
     "text": [
      "Date\n",
      "2015-01-05         NaN\n",
      "2015-01-06         NaN\n",
      "2015-01-07   -0.039431\n",
      "2015-01-08    0.033735\n",
      "2015-01-09    0.000000\n",
      "                ...   \n",
      "2016-12-26    0.002793\n",
      "2016-12-27    0.008403\n",
      "2016-12-28    0.013928\n",
      "2016-12-29    0.000000\n",
      "2016-12-30   -0.002747\n",
      "Name: simpleret2, Length: 488, dtype: float64\n"
     ]
    }
   ],
   "source": [
    "# 計算2期簡單收益率\n",
    "simpleret2 = (close - close.shift(2)) / close.shift(2)\n",
    "simpleret2.name = 'simpleret2'\n",
    "print(simpleret2)"
   ]
  },
  {
   "cell_type": "code",
   "execution_count": 21,
   "id": "7e41caa7",
   "metadata": {},
   "outputs": [
    {
     "name": "stdout",
     "output_type": "stream",
     "text": [
      "Date\n",
      "2015-01-05         NaN\n",
      "2015-01-06   -0.043044\n",
      "2015-01-07    0.003775\n",
      "2015-01-08    0.029847\n",
      "2015-01-09   -0.028982\n",
      "                ...   \n",
      "2016-12-26    0.005602\n",
      "2016-12-27    0.002786\n",
      "2016-12-28    0.011111\n",
      "2016-12-29   -0.010989\n",
      "2016-12-30    0.008333\n",
      "Name: Close, Length: 488, dtype: float64\n"
     ]
    }
   ],
   "source": [
    "# use ffn package\n",
    "ffnsimpleret = ffn.to_returns(close)\n",
    "print(ffnsimpleret)"
   ]
  },
  {
   "cell_type": "code",
   "execution_count": 22,
   "id": "49e9b0ff",
   "metadata": {},
   "outputs": [
    {
     "name": "stdout",
     "output_type": "stream",
     "text": [
      "Date\n",
      "2016-12-30    0.299908\n",
      "Name: Close, dtype: float64\n"
     ]
    }
   ],
   "source": [
    "# 年化收益率\n",
    "annualize = (1 + simpleret).cumprod()[-1:]**(245/311) - 1\n",
    "print(annualize)"
   ]
  },
  {
   "cell_type": "code",
   "execution_count": null,
   "id": "f8d682c8",
   "metadata": {},
   "outputs": [],
   "source": []
  }
 ],
 "metadata": {
  "kernelspec": {
   "display_name": "Python 3 (ipykernel)",
   "language": "python",
   "name": "python3"
  },
  "language_info": {
   "codemirror_mode": {
    "name": "ipython",
    "version": 3
   },
   "file_extension": ".py",
   "mimetype": "text/x-python",
   "name": "python",
   "nbconvert_exporter": "python",
   "pygments_lexer": "ipython3",
   "version": "3.9.15"
  }
 },
 "nbformat": 4,
 "nbformat_minor": 5
}
