{
 "cells": [
  {
   "cell_type": "code",
   "execution_count": 1,
   "id": "271335b1",
   "metadata": {},
   "outputs": [
    {
     "ename": "ModuleNotFoundError",
     "evalue": "No module named 'ffn'",
     "output_type": "error",
     "traceback": [
      "\u001b[0;31m---------------------------------------------------------------------------\u001b[0m",
      "\u001b[0;31mModuleNotFoundError\u001b[0m                       Traceback (most recent call last)",
      "Cell \u001b[0;32mIn[1], line 3\u001b[0m\n\u001b[1;32m      1\u001b[0m \u001b[38;5;28;01mimport\u001b[39;00m \u001b[38;5;21;01mnumpy\u001b[39;00m \u001b[38;5;28;01mas\u001b[39;00m \u001b[38;5;21;01mnp\u001b[39;00m\n\u001b[1;32m      2\u001b[0m \u001b[38;5;28;01mimport\u001b[39;00m \u001b[38;5;21;01mpandas\u001b[39;00m \u001b[38;5;28;01mas\u001b[39;00m \u001b[38;5;21;01mpd\u001b[39;00m\n\u001b[0;32m----> 3\u001b[0m \u001b[38;5;28;01mimport\u001b[39;00m \u001b[38;5;21;01mffn\u001b[39;00m\n",
      "\u001b[0;31mModuleNotFoundError\u001b[0m: No module named 'ffn'"
     ]
    }
   ],
   "source": [
    "import numpy as np\n",
    "import pandas as pd\n",
    "import ffn"
   ]
  },
  {
   "cell_type": "code",
   "execution_count": null,
   "id": "4c2c970f",
   "metadata": {},
   "outputs": [],
   "source": [
    "# in unix-like os, use「../」==> 表示回到上一層\n",
    "stocks = pd.read_csv('../2330v2.csv', index_col = 'Date', sep = '\\t')\n",
    "stocks.head(10)"
   ]
  },
  {
   "cell_type": "code",
   "execution_count": null,
   "id": "27d2334f",
   "metadata": {},
   "outputs": [],
   "source": [
    "close = stocks.Close # close type is 'pandas.core.series.Series'\n",
    "print(close, type(close))"
   ]
  },
  {
   "cell_type": "code",
   "execution_count": null,
   "id": "f921cdb6",
   "metadata": {},
   "outputs": [],
   "source": [
    "close.index = pd.to_datetime(close.index)\n",
    "print(close.index)\n",
    "print(type(close.index))"
   ]
  },
  {
   "cell_type": "code",
   "execution_count": 2,
   "id": "c3896fe8",
   "metadata": {},
   "outputs": [
    {
     "ename": "NameError",
     "evalue": "name 'close' is not defined",
     "output_type": "error",
     "traceback": [
      "\u001b[0;31m---------------------------------------------------------------------------\u001b[0m",
      "\u001b[0;31mNameError\u001b[0m                                 Traceback (most recent call last)",
      "Cell \u001b[0;32mIn[2], line 2\u001b[0m\n\u001b[1;32m      1\u001b[0m \u001b[38;5;66;03m# 收盤價格滯後一期\u001b[39;00m\n\u001b[0;32m----> 2\u001b[0m lagclose \u001b[38;5;241m=\u001b[39m \u001b[43mclose\u001b[49m\u001b[38;5;241m.\u001b[39mshift(\u001b[38;5;241m1\u001b[39m)\n\u001b[1;32m      3\u001b[0m lagclose\u001b[38;5;241m.\u001b[39mhead()\n",
      "\u001b[0;31mNameError\u001b[0m: name 'close' is not defined"
     ]
    }
   ],
   "source": [
    "# 收盤價格滯後一期\n",
    "lagclose = close.shift(1)\n",
    "lagclose.head()"
   ]
  },
  {
   "cell_type": "code",
   "execution_count": 3,
   "id": "6079fc1f",
   "metadata": {},
   "outputs": [
    {
     "ename": "NameError",
     "evalue": "name 'close' is not defined",
     "output_type": "error",
     "traceback": [
      "\u001b[0;31m---------------------------------------------------------------------------\u001b[0m",
      "\u001b[0;31mNameError\u001b[0m                                 Traceback (most recent call last)",
      "Cell \u001b[0;32mIn[3], line 1\u001b[0m\n\u001b[0;32m----> 1\u001b[0m mergeclose \u001b[38;5;241m=\u001b[39m pd\u001b[38;5;241m.\u001b[39mDataFrame({\u001b[38;5;124m'\u001b[39m\u001b[38;5;124mclose\u001b[39m\u001b[38;5;124m'\u001b[39m : \u001b[43mclose\u001b[49m, \u001b[38;5;124m'\u001b[39m\u001b[38;5;124mlagclose1\u001b[39m\u001b[38;5;124m'\u001b[39m: lagclose})\n\u001b[1;32m      2\u001b[0m \u001b[38;5;66;03m#print(mergeclose)\u001b[39;00m\n\u001b[1;32m      3\u001b[0m \u001b[38;5;28mprint\u001b[39m(mergeclose\u001b[38;5;241m.\u001b[39mindex)\n",
      "\u001b[0;31mNameError\u001b[0m: name 'close' is not defined"
     ]
    }
   ],
   "source": [
    "mergeclose = pd.DataFrame({'close' : close, 'lagclose1': lagclose})\n",
    "#print(mergeclose)\n",
    "print(mergeclose.index)"
   ]
  },
  {
   "cell_type": "code",
   "execution_count": 4,
   "id": "e1e0360a",
   "metadata": {},
   "outputs": [
    {
     "ename": "NameError",
     "evalue": "name 'close' is not defined",
     "output_type": "error",
     "traceback": [
      "\u001b[0;31m---------------------------------------------------------------------------\u001b[0m",
      "\u001b[0;31mNameError\u001b[0m                                 Traceback (most recent call last)",
      "Cell \u001b[0;32mIn[4], line 2\u001b[0m\n\u001b[1;32m      1\u001b[0m \u001b[38;5;66;03m# 計算單期簡單收益率\u001b[39;00m\n\u001b[0;32m----> 2\u001b[0m simpleret \u001b[38;5;241m=\u001b[39m (\u001b[43mclose\u001b[49m \u001b[38;5;241m-\u001b[39m lagclose) \u001b[38;5;241m/\u001b[39m lagclose\n\u001b[1;32m      3\u001b[0m simpleret\u001b[38;5;241m.\u001b[39mname \u001b[38;5;241m=\u001b[39m \u001b[38;5;124m'\u001b[39m\u001b[38;5;124msimpleret\u001b[39m\u001b[38;5;124m'\u001b[39m\n\u001b[1;32m      4\u001b[0m \u001b[38;5;28mprint\u001b[39m(simpleret)\n",
      "\u001b[0;31mNameError\u001b[0m: name 'close' is not defined"
     ]
    }
   ],
   "source": [
    "# 計算單期簡單收益率\n",
    "simpleret = (close - lagclose) / lagclose\n",
    "simpleret.name = 'simpleret'\n",
    "print(simpleret)"
   ]
  },
  {
   "cell_type": "code",
   "execution_count": 43,
   "id": "cc291177",
   "metadata": {},
   "outputs": [
    {
     "name": "stdout",
     "output_type": "stream",
     "text": [
      "Date\n",
      "2015-01-05         NaN\n",
      "2015-01-06         NaN\n",
      "2015-01-07   -0.039431\n",
      "2015-01-08    0.033735\n",
      "2015-01-09    0.000000\n",
      "                ...   \n",
      "2016-12-26    0.002793\n",
      "2016-12-27    0.008403\n",
      "2016-12-28    0.013928\n",
      "2016-12-29    0.000000\n",
      "2016-12-30   -0.002747\n",
      "Name: simpleret2, Length: 488, dtype: float64\n"
     ]
    }
   ],
   "source": [
    "# 計算2期簡單收益率\n",
    "simpleret2 = (close - close.shift(2)) / close.shift(2)\n",
    "simpleret2.name = 'simpleret2'\n",
    "print(simpleret2)"
   ]
  },
  {
   "cell_type": "code",
   "execution_count": 44,
   "id": "e826ee73",
   "metadata": {},
   "outputs": [
    {
     "name": "stdout",
     "output_type": "stream",
     "text": [
      "Date\n",
      "2015-01-05         NaN\n",
      "2015-01-06   -0.043044\n",
      "2015-01-07    0.003775\n",
      "2015-01-08    0.029847\n",
      "2015-01-09   -0.028982\n",
      "                ...   \n",
      "2016-12-26    0.005602\n",
      "2016-12-27    0.002786\n",
      "2016-12-28    0.011111\n",
      "2016-12-29   -0.010989\n",
      "2016-12-30    0.008333\n",
      "Name: Close, Length: 488, dtype: float64\n"
     ]
    }
   ],
   "source": [
    "# use ffn package\n",
    "ffnSimpleret = ffn.to_returns(close) # 簡單收益率\n",
    "print(ffnSimpleret)"
   ]
  },
  {
   "cell_type": "code",
   "execution_count": 45,
   "id": "8164f514",
   "metadata": {},
   "outputs": [
    {
     "name": "stdout",
     "output_type": "stream",
     "text": [
      "Date\n",
      "2016-12-30    0.299908\n",
      "Name: simpleret, dtype: float64\n"
     ]
    }
   ],
   "source": [
    "# 年化收益率\n",
    "annualize = (1 + simpleret).cumprod()[-1:]**(245/311) - 1\n",
    "#annualize = (1 + simpleret).cumprod()**(245/311) \n",
    "print(annualize)"
   ]
  },
  {
   "cell_type": "code",
   "execution_count": 46,
   "id": "822f77c4",
   "metadata": {},
   "outputs": [
    {
     "name": "stdout",
     "output_type": "stream",
     "text": [
      "Date\n",
      "2016-12-30    0.008333\n",
      "Name: simpleret, dtype: float64\n",
      "Date\n",
      "2016-12-30    0.000069\n",
      "Name: simpleret, dtype: float64\n",
      "Date\n",
      "2016-12-30    0.091287\n",
      "Name: simpleret, dtype: float64\n"
     ]
    }
   ],
   "source": [
    "print(simpleret[-1:])\n",
    "print(simpleret[-1:]**2)\n",
    "print(simpleret[-1:]**(2/4))"
   ]
  },
  {
   "cell_type": "code",
   "execution_count": null,
   "id": "14e08f18",
   "metadata": {},
   "outputs": [],
   "source": []
  }
 ],
 "metadata": {
  "kernelspec": {
   "display_name": "Python 3 (ipykernel)",
   "language": "python",
   "name": "python3"
  },
  "language_info": {
   "codemirror_mode": {
    "name": "ipython",
    "version": 3
   },
   "file_extension": ".py",
   "mimetype": "text/x-python",
   "name": "python",
   "nbconvert_exporter": "python",
   "pygments_lexer": "ipython3",
   "version": "3.8.15"
  }
 },
 "nbformat": 4,
 "nbformat_minor": 5
}
